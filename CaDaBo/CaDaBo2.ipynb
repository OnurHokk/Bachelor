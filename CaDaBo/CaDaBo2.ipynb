{
 "cells": [
  {
   "cell_type": "code",
   "execution_count": 2,
   "metadata": {},
   "outputs": [
    {
     "name": "stdout",
     "output_type": "stream",
     "text": [
      "/home/onur/Programming/Bachelor/CaDaBo/yolov5\n"
     ]
    }
   ],
   "source": [
    "import os\n",
    "if not os.path.exists(\"yolov5\"):\n",
    "  print(\"cloning from git...\") \n",
    "  !git clone https://github.com/ultralytics/yolov5\n",
    "  %cd yolov5\n",
    "\n",
    "%cd yolov5"
   ]
  },
  {
   "cell_type": "code",
   "execution_count": 7,
   "metadata": {},
   "outputs": [
    {
     "data": {
      "text/plain": [
       "'/home/onur/Programming/Bachelor/CaDaBo/yolov5'"
      ]
     },
     "execution_count": 7,
     "metadata": {},
     "output_type": "execute_result"
    }
   ],
   "source": [
    "%pwd"
   ]
  },
  {
   "cell_type": "code",
   "execution_count": null,
   "metadata": {},
   "outputs": [],
   "source": [
    "%pip install -Ur requirements.txt\n",
    "%pip install roboflow comet_ml pyarrow"
   ]
  },
  {
   "cell_type": "code",
   "execution_count": null,
   "metadata": {},
   "outputs": [],
   "source": [
    "import glob\n",
    "\n",
    "for file in glob.glob(\"../weights/CaDaBo-2/*nostretch*adam*\"):\n",
    "    print(file)\n",
    "    !python export.py --weights {file} --img 960 --include onnx\n"
   ]
  },
  {
   "cell_type": "code",
   "execution_count": null,
   "metadata": {},
   "outputs": [],
   "source": [
    "# convert .pt weights to onnx weights for pi\n",
    "\n",
    "!python export.py --weights \"../weights/CaDaBo-2/citroen-high-long.pt\" --img 960 --data \"CaDaBo-2-6/data.yaml\" --include onnx\n",
    "!python export.py --weights \"../weights/CaDaBo-2/citroen-augs-high-long.pt\" --img 960 --data \"CaDaBo-2-9/data.yaml\" --include onnx\n"
   ]
  },
  {
   "cell_type": "code",
   "execution_count": null,
   "metadata": {},
   "outputs": [],
   "source": [
    "# download all version of cadabo-2\n",
    "from roboflow import Roboflow\n",
    "rf = Roboflow(api_key=\"CmkPncwo7RqoVbRtH71I\")\n",
    "project = rf.workspace(\"onurbachelor\").project(\"cadabo-2\")\n",
    "\n",
    "for i in range(1, 10):\n",
    "    dataset = project.version(i).download(\"yolov5\")"
   ]
  },
  {
   "cell_type": "code",
   "execution_count": null,
   "metadata": {},
   "outputs": [],
   "source": [
    "import torch\n",
    "\n",
    "print(f\"Using torch {torch.__version__} ({torch.cuda.get_device_properties(0).name if torch.cuda.is_available() else 'CPU'})\")"
   ]
  },
  {
   "cell_type": "code",
   "execution_count": null,
   "metadata": {},
   "outputs": [],
   "source": [
    "!python \"val.py\" --weights \"../weights/CaDaBo-2/random-640-low.pt\" --img 640 --data \"./CaDaBo-2-3/data.yaml\" --task test --verbose"
   ]
  },
  {
   "cell_type": "code",
   "execution_count": 39,
   "metadata": {},
   "outputs": [
    {
     "name": "stdout",
     "output_type": "stream",
     "text": [
      "random-640-low\n"
     ]
    }
   ],
   "source": [
    "path=\"../weights/CaDaBo-2/random-640-low.pt\"\n",
    "filename = os.path.splitext(os.path.basename(path))[0]\n",
    "print(filename)"
   ]
  },
  {
   "cell_type": "code",
   "execution_count": 6,
   "metadata": {},
   "outputs": [
    {
     "name": "stdout",
     "output_type": "stream",
     "text": [
      "\u001b[34m\u001b[1mval: \u001b[0mdata=CaDaBo-2-8/data.yaml, weights=['../weights/CaDaBo-2/citroen-nostretch-augs-adam.onnx'], batch_size=32, imgsz=960, conf_thres=0.001, iou_thres=0.6, max_det=300, task=test, device=, workers=8, single_cls=False, augment=False, verbose=True, save_txt=False, save_hybrid=False, save_conf=False, save_json=False, project=runs/val, name=citroen-nostretch-augs-adam, exist_ok=True, half=False, dnn=False\n",
      "YOLOv5 🚀 v7.0-278-g050c72c Python-3.11.4 torch-2.1.2+cu121 CPU\n",
      "\n",
      "Loading ../weights/CaDaBo-2/citroen-nostretch-augs-adam.onnx for ONNX Runtime inference...\n",
      "Forcing --batch-size 1 square inference (1,3,960,960) for non-PyTorch models\n",
      "\u001b[34m\u001b[1mtest: \u001b[0mScanning /home/onur/Programming/Bachelor/CaDaBo/yolov5/CaDaBo-2-8/test/labels.cache... 53 images, 3 backgrounds, 0 corrupt: 100%|██████████| 53/53 [00:00<?, ?it/s]\n",
      "                 Class     Images  Instances          P          R      mAP50   mAP50-95: 100%|██████████| 53/53 [00:43<00:00,  1.22it/s]\n",
      "                   all         53        275      0.774      0.644      0.699      0.503\n",
      "                airbag         53         26      0.906      0.577      0.633      0.478\n",
      "               battery         53         38      0.961      0.652      0.725      0.537\n",
      "                  door         53         13      0.346      0.538      0.429      0.317\n",
      "             handbrake         53         59      0.541      0.576      0.622      0.468\n",
      "                   mil         53         39       0.91      0.949       0.97      0.689\n",
      "                   oil         53         25      0.947      0.715      0.794      0.549\n",
      "              seatbelt         53         35      0.735        0.8      0.839      0.614\n",
      "          tirepressure         53         28          1      0.851      0.924      0.666\n",
      "             watertemp         53         12      0.618      0.142      0.354       0.21\n",
      "Speed: 2.3ms pre-process, 722.7ms inference, 49.2ms NMS per image at shape (1, 3, 960, 960)\n",
      "Results saved to \u001b[1mruns/val/citroen-nostretch-augs-adam\u001b[0m\n"
     ]
    }
   ],
   "source": [
    "path=\"../weights/CaDaBo-2/citroen-nostretch-augs-adam.onnx\"\n",
    "task = os.path.splitext(os.path.basename(path))[0]\n",
    "data=\"CaDaBo-2-8/data.yaml\"\n",
    "\n",
    "!python \"val.py\" --weights {path} --name {task} --img 960 --data {data} --task test --verbose --exist-ok 2>&1 \\\n",
    "    | tee \"../results/CaDaBo-2/{task}.txt\"\n"
   ]
  },
  {
   "cell_type": "code",
   "execution_count": 8,
   "metadata": {},
   "outputs": [
    {
     "name": "stdout",
     "output_type": "stream",
     "text": [
      "CaDaBo-2-6\n",
      "\u001b[34m\u001b[1mdetect: \u001b[0mweights=['../weights/CaDaBo-2/citroen-adam.onnx'], source=CaDaBo-2-6/test/images/2023-12-07-08-51-30_png.rf.1b04efc53111c062f429a4d000d2398e.jpg, data=data/coco128.yaml, imgsz=[960, 960], conf_thres=0.25, iou_thres=0.45, max_det=1000, device=, view_img=False, save_txt=True, save_csv=False, save_conf=True, save_crop=False, nosave=False, classes=None, agnostic_nms=False, augment=False, visualize=False, update=False, project=runs/detect, name=citroen-adam, exist_ok=True, line_thickness=3, hide_labels=False, hide_conf=False, half=False, dnn=False, vid_stride=1\n",
      "YOLOv5 🚀 v7.0-278-g050c72c Python-3.11.4 torch-2.1.2+cu121 CPU\n",
      "\n",
      "Loading ../weights/CaDaBo-2/citroen-adam.onnx for ONNX Runtime inference...\n",
      "image 1/1 /home/onur/Programming/Bachelor/CaDaBo/yolov5/CaDaBo-2-6/test/images/2023-12-07-08-51-30_png.rf.1b04efc53111c062f429a4d000d2398e.jpg: 960x960 1 airbag, 1 battery, 4 handbrakes, 1 mil, 1 oil, 1 seatbelt, 1 tirepressure, 844.7ms\n",
      "Speed: 24.9ms pre-process, 844.7ms inference, 70.7ms NMS per image at shape (1, 3, 960, 960)\n",
      "Results saved to \u001b[1mruns/detect/citroen-adam\u001b[0m\n",
      "1 labels saved to runs/detect/citroen-adam/labels\n"
     ]
    }
   ],
   "source": [
    "path=\"../weights/CaDaBo-2/citroen-adam.onnx\"\n",
    "task = os.path.splitext(os.path.basename(path))[0]\n",
    "data=\"CaDaBo-2-6/data.yaml\"\n",
    "parent = os.path.dirname(data)\n",
    "print(parent)\n",
    "\n",
    "!python \"detect.py\" --weights {path} --name {task} --img 960 --source \"{parent}/test/images/2023-12-07-08-51-30_png.rf.1b04efc53111c062f429a4d000d2398e.jpg\" --save-txt --save-conf --exist-ok 2>&1"
   ]
  },
  {
   "cell_type": "code",
   "execution_count": null,
   "metadata": {},
   "outputs": [],
   "source": [
    "import glob\n",
    "from PIL import Image\n",
    "\n",
    "for image in glob.glob(\"runs/detect/exp4/*.jpg\"):\n",
    "  print(image)\n",
    "  im= Image.open(image)\n",
    "  display(im)"
   ]
  },
  {
   "cell_type": "markdown",
   "metadata": {},
   "source": []
  }
 ],
 "metadata": {
  "kernelspec": {
   "display_name": "bachelor",
   "language": "python",
   "name": "python3"
  },
  "language_info": {
   "codemirror_mode": {
    "name": "ipython",
    "version": 3
   },
   "file_extension": ".py",
   "mimetype": "text/x-python",
   "name": "python",
   "nbconvert_exporter": "python",
   "pygments_lexer": "ipython3",
   "version": "3.11.4"
  }
 },
 "nbformat": 4,
 "nbformat_minor": 2
}
