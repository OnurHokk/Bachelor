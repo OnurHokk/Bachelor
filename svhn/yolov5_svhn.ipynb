{
 "cells": [
  {
   "cell_type": "code",
   "execution_count": 1,
   "metadata": {},
   "outputs": [
    {
     "name": "stdout",
     "output_type": "stream",
     "text": [
      "e:\\Meine Ablage\\Programming\\Bachelor\\svhn\\yolov5\n",
      "[WinError 2] Das System kann die angegebene Datei nicht finden: 'yolov5'\n",
      "e:\\Meine Ablage\\Programming\\Bachelor\\svhn\\yolov5\n"
     ]
    },
    {
     "name": "stderr",
     "output_type": "stream",
     "text": [
      "Cloning into 'yolov5'...\n"
     ]
    }
   ],
   "source": [
    "import os\n",
    "if not os.path.exists(\"yolov5\"):\n",
    "  print(\"cloning from git...\") \n",
    "  !git clone https://github.com/ultralytics/yolov5\n",
    "  %cd yolov5\n",
    "\n",
    "%cd yolov5"
   ]
  },
  {
   "cell_type": "code",
   "execution_count": 2,
   "metadata": {},
   "outputs": [
    {
     "name": "stdout",
     "output_type": "stream",
     "text": [
      " Datentr�ger in Laufwerk E: ist Google Drive\n",
      " Volumeseriennummer: 1983-1116\n",
      "\n",
      " Verzeichnis von e:\\Meine Ablage\\Programming\\Bachelor\\svhn\\yolov5\n",
      "\n",
      "02.11.2023  14:43    <DIR>          .\n",
      "02.11.2023  14:43    <DIR>          ..\n",
      "02.11.2023  14:43             3.923 .dockerignore\n",
      "02.11.2023  14:43                77 .gitattributes\n",
      "02.11.2023  14:43    <DIR>          .github\n",
      "02.11.2023  14:43             4.255 .gitignore\n",
      "02.11.2023  14:43             1.888 .pre-commit-config.yaml\n",
      "02.11.2023  14:43             8.183 benchmarks.py\n",
      "02.11.2023  14:43               407 CITATION.cff\n",
      "02.11.2023  14:43    <DIR>          classify\n",
      "02.11.2023  14:43             5.102 CONTRIBUTING.md\n",
      "02.11.2023  14:43    <DIR>          data\n",
      "02.11.2023  14:43            15.649 detect.py\n",
      "02.11.2023  14:43            42.138 export.py\n",
      "02.11.2023  14:43             7.938 hubconf.py\n",
      "02.11.2023  14:43            35.184 LICENSE\n",
      "02.11.2023  14:43    <DIR>          models\n",
      "02.11.2023  14:43            42.069 README.md\n",
      "02.11.2023  14:43            41.087 README.zh-CN.md\n",
      "02.11.2023  14:43             1.611 requirements.txt\n",
      "02.11.2023  14:43    <DIR>          segment\n",
      "02.11.2023  14:43             1.779 setup.cfg\n",
      "02.11.2023  14:43            34.529 train.py\n",
      "02.11.2023  14:43            41.556 tutorial.ipynb\n",
      "02.11.2023  14:43    <DIR>          utils\n",
      "02.11.2023  14:43            20.997 val.py\n",
      "              18 Datei(en),        308.372 Bytes\n",
      "               8 Verzeichnis(se), 6.887.388.901.376 Bytes frei\n"
     ]
    }
   ],
   "source": [
    "%ls"
   ]
  },
  {
   "cell_type": "code",
   "execution_count": 3,
   "metadata": {},
   "outputs": [
    {
     "name": "stdout",
     "output_type": "stream",
     "text": [
      "Requirement already satisfied: gitpython>=3.1.30 in c:\\users\\onur\\appdata\\roaming\\python\\python311\\site-packages (from -r requirements.txt (line 5)) (3.1.40)Note: you may need to restart the kernel to use updated packages.\n"
     ]
    },
    {
     "name": "stderr",
     "output_type": "stream",
     "text": [
      "WARNING: Skipping c:\\Users\\Onur\\mambaforge\\envs\\bachelor\\Lib\\site-packages\\numpy-1.25.1.dist-info due to invalid metadata entry 'name'\n",
      "WARNING: Skipping c:\\Users\\Onur\\mambaforge\\envs\\bachelor\\Lib\\site-packages\\numpy-1.25.1.dist-info due to invalid metadata entry 'name'\n",
      "WARNING: Skipping c:\\Users\\Onur\\mambaforge\\envs\\bachelor\\Lib\\site-packages\\numpy-1.25.1.dist-info due to invalid metadata entry 'name'\n",
      "WARNING: Skipping c:\\Users\\Onur\\mambaforge\\envs\\bachelor\\Lib\\site-packages\\numpy-1.25.1.dist-info due to invalid metadata entry 'name'\n",
      "WARNING: Skipping c:\\Users\\Onur\\mambaforge\\envs\\bachelor\\Lib\\site-packages\\numpy-1.25.1.dist-info due to invalid metadata entry 'name'\n",
      "WARNING: Skipping c:\\Users\\Onur\\mambaforge\\envs\\bachelor\\Lib\\site-packages\\numpy-1.25.1.dist-info due to invalid metadata entry 'name'\n"
     ]
    },
    {
     "name": "stdout",
     "output_type": "stream",
     "text": [
      "\n",
      "Requirement already satisfied: matplotlib>=3.3 in c:\\users\\onur\\appdata\\roaming\\python\\python311\\site-packages (from -r requirements.txt (line 6)) (3.8.1)\n",
      "Requirement already satisfied: numpy>=1.22.2 in c:\\users\\onur\\mambaforge\\envs\\bachelor\\lib\\site-packages (from -r requirements.txt (line 7)) (1.26.1)\n",
      "Requirement already satisfied: opencv-python>=4.1.1 in c:\\users\\onur\\appdata\\roaming\\python\\python311\\site-packages (from -r requirements.txt (line 8)) (4.8.1.78)\n",
      "Requirement already satisfied: Pillow>=7.1.2 in c:\\users\\onur\\mambaforge\\envs\\bachelor\\lib\\site-packages (from -r requirements.txt (line 9)) (10.1.0)\n",
      "Requirement already satisfied: psutil in c:\\users\\onur\\mambaforge\\envs\\bachelor\\lib\\site-packages (from -r requirements.txt (line 10)) (5.9.6)\n",
      "Requirement already satisfied: PyYAML>=5.3.1 in c:\\users\\onur\\mambaforge\\envs\\bachelor\\lib\\site-packages (from -r requirements.txt (line 11)) (6.0.1)\n",
      "Requirement already satisfied: requests>=2.23.0 in c:\\users\\onur\\mambaforge\\envs\\bachelor\\lib\\site-packages (from -r requirements.txt (line 12)) (2.31.0)\n",
      "Requirement already satisfied: scipy>=1.4.1 in c:\\users\\onur\\mambaforge\\envs\\bachelor\\lib\\site-packages (from -r requirements.txt (line 13)) (1.11.3)\n",
      "Requirement already satisfied: thop>=0.1.1 in c:\\users\\onur\\mambaforge\\envs\\bachelor\\lib\\site-packages (from -r requirements.txt (line 14)) (0.1.1.post2209072238)\n",
      "Requirement already satisfied: torch>=1.8.0 in c:\\users\\onur\\appdata\\roaming\\python\\python311\\site-packages (from -r requirements.txt (line 15)) (2.1.0)\n",
      "Requirement already satisfied: torchvision>=0.9.0 in c:\\users\\onur\\appdata\\roaming\\python\\python311\\site-packages (from -r requirements.txt (line 16)) (0.16.0)\n",
      "Requirement already satisfied: tqdm>=4.64.0 in c:\\users\\onur\\mambaforge\\envs\\bachelor\\lib\\site-packages (from -r requirements.txt (line 17)) (4.66.1)\n",
      "Requirement already satisfied: ultralytics>=8.0.147 in c:\\users\\onur\\appdata\\roaming\\python\\python311\\site-packages (from -r requirements.txt (line 18)) (8.0.203)\n",
      "Requirement already satisfied: pandas>=1.1.4 in c:\\users\\onur\\appdata\\roaming\\python\\python311\\site-packages (from -r requirements.txt (line 27)) (2.1.2)\n",
      "Requirement already satisfied: seaborn>=0.11.0 in c:\\users\\onur\\mambaforge\\envs\\bachelor\\lib\\site-packages (from -r requirements.txt (line 28)) (0.13.0)\n",
      "Requirement already satisfied: setuptools>=65.5.1 in c:\\users\\onur\\mambaforge\\envs\\bachelor\\lib\\site-packages (from -r requirements.txt (line 42)) (68.2.2)\n",
      "Requirement already satisfied: gitdb<5,>=4.0.1 in c:\\users\\onur\\appdata\\roaming\\python\\python311\\site-packages (from gitpython>=3.1.30->-r requirements.txt (line 5)) (4.0.11)\n",
      "Requirement already satisfied: contourpy>=1.0.1 in c:\\users\\onur\\mambaforge\\envs\\bachelor\\lib\\site-packages (from matplotlib>=3.3->-r requirements.txt (line 6)) (1.1.0)\n",
      "Requirement already satisfied: cycler>=0.10 in c:\\users\\onur\\mambaforge\\envs\\bachelor\\lib\\site-packages (from matplotlib>=3.3->-r requirements.txt (line 6)) (0.10.0)\n",
      "Requirement already satisfied: fonttools>=4.22.0 in c:\\users\\onur\\mambaforge\\envs\\bachelor\\lib\\site-packages (from matplotlib>=3.3->-r requirements.txt (line 6)) (4.41.0)\n",
      "Requirement already satisfied: kiwisolver>=1.3.1 in c:\\users\\onur\\mambaforge\\envs\\bachelor\\lib\\site-packages (from matplotlib>=3.3->-r requirements.txt (line 6)) (1.4.4)\n",
      "Requirement already satisfied: packaging>=20.0 in c:\\users\\onur\\mambaforge\\envs\\bachelor\\lib\\site-packages (from matplotlib>=3.3->-r requirements.txt (line 6)) (23.1)\n",
      "Requirement already satisfied: pyparsing>=2.3.1 in c:\\users\\onur\\mambaforge\\envs\\bachelor\\lib\\site-packages (from matplotlib>=3.3->-r requirements.txt (line 6)) (2.4.7)\n",
      "Requirement already satisfied: python-dateutil>=2.7 in c:\\users\\onur\\mambaforge\\envs\\bachelor\\lib\\site-packages (from matplotlib>=3.3->-r requirements.txt (line 6)) (2.8.2)\n",
      "Requirement already satisfied: charset-normalizer<4,>=2 in c:\\users\\onur\\mambaforge\\envs\\bachelor\\lib\\site-packages (from requests>=2.23.0->-r requirements.txt (line 12)) (3.3.0)\n",
      "Requirement already satisfied: idna<4,>=2.5 in c:\\users\\onur\\mambaforge\\envs\\bachelor\\lib\\site-packages (from requests>=2.23.0->-r requirements.txt (line 12)) (2.10)\n",
      "Requirement already satisfied: urllib3<3,>=1.21.1 in c:\\users\\onur\\mambaforge\\envs\\bachelor\\lib\\site-packages (from requests>=2.23.0->-r requirements.txt (line 12)) (2.0.6)\n",
      "Requirement already satisfied: certifi>=2017.4.17 in c:\\users\\onur\\mambaforge\\envs\\bachelor\\lib\\site-packages (from requests>=2.23.0->-r requirements.txt (line 12)) (2022.12.7)\n",
      "Requirement already satisfied: filelock in c:\\users\\onur\\mambaforge\\envs\\bachelor\\lib\\site-packages (from torch>=1.8.0->-r requirements.txt (line 15)) (3.12.4)\n",
      "Requirement already satisfied: typing-extensions in c:\\users\\onur\\mambaforge\\envs\\bachelor\\lib\\site-packages (from torch>=1.8.0->-r requirements.txt (line 15)) (4.7.1)\n",
      "Requirement already satisfied: sympy in c:\\users\\onur\\mambaforge\\envs\\bachelor\\lib\\site-packages (from torch>=1.8.0->-r requirements.txt (line 15)) (1.12)\n",
      "Requirement already satisfied: networkx in c:\\users\\onur\\mambaforge\\envs\\bachelor\\lib\\site-packages (from torch>=1.8.0->-r requirements.txt (line 15)) (3.1)\n",
      "Requirement already satisfied: jinja2 in c:\\users\\onur\\mambaforge\\envs\\bachelor\\lib\\site-packages (from torch>=1.8.0->-r requirements.txt (line 15)) (3.1.2)\n",
      "Requirement already satisfied: fsspec in c:\\users\\onur\\mambaforge\\envs\\bachelor\\lib\\site-packages (from torch>=1.8.0->-r requirements.txt (line 15)) (2023.9.2)\n",
      "Requirement already satisfied: colorama in c:\\users\\onur\\mambaforge\\envs\\bachelor\\lib\\site-packages (from tqdm>=4.64.0->-r requirements.txt (line 17)) (0.4.6)\n",
      "Requirement already satisfied: py-cpuinfo in c:\\users\\onur\\mambaforge\\envs\\bachelor\\lib\\site-packages (from ultralytics>=8.0.147->-r requirements.txt (line 18)) (9.0.0)\n",
      "Requirement already satisfied: pytz>=2020.1 in c:\\users\\onur\\mambaforge\\envs\\bachelor\\lib\\site-packages (from pandas>=1.1.4->-r requirements.txt (line 27)) (2023.3.post1)\n",
      "Requirement already satisfied: tzdata>=2022.1 in c:\\users\\onur\\mambaforge\\envs\\bachelor\\lib\\site-packages (from pandas>=1.1.4->-r requirements.txt (line 27)) (2023.3)\n",
      "Requirement already satisfied: six in c:\\users\\onur\\mambaforge\\envs\\bachelor\\lib\\site-packages (from cycler>=0.10->matplotlib>=3.3->-r requirements.txt (line 6)) (1.16.0)\n",
      "Requirement already satisfied: smmap<6,>=3.0.1 in c:\\users\\onur\\mambaforge\\envs\\bachelor\\lib\\site-packages (from gitdb<5,>=4.0.1->gitpython>=3.1.30->-r requirements.txt (line 5)) (5.0.1)\n",
      "Requirement already satisfied: MarkupSafe>=2.0 in c:\\users\\onur\\mambaforge\\envs\\bachelor\\lib\\site-packages (from jinja2->torch>=1.8.0->-r requirements.txt (line 15)) (2.1.3)\n",
      "Requirement already satisfied: mpmath>=0.19 in c:\\users\\onur\\mambaforge\\envs\\bachelor\\lib\\site-packages (from sympy->torch>=1.8.0->-r requirements.txt (line 15)) (1.3.0)\n",
      "Requirement already satisfied: roboflow in c:\\users\\onur\\mambaforge\\envs\\bachelor\\lib\\site-packages (1.1.7)\n",
      "Requirement already satisfied: comet_ml in c:\\users\\onur\\mambaforge\\envs\\bachelor\\lib\\site-packages (3.35.1)\n",
      "Requirement already satisfied: certifi==2022.12.7 in c:\\users\\onur\\mambaforge\\envs\\bachelor\\lib\\site-packages (from roboflow) (2022.12.7)\n",
      "Requirement already satisfied: chardet==4.0.0 in c:\\users\\onur\\mambaforge\\envs\\bachelor\\lib\\site-packages (from roboflow) (4.0.0)\n",
      "Requirement already satisfied: cycler==0.10.0 in c:\\users\\onur\\mambaforge\\envs\\bachelor\\lib\\site-packages (from roboflow) (0.10.0)\n",
      "Requirement already satisfied: idna==2.10 in c:\\users\\onur\\mambaforge\\envs\\bachelor\\lib\\site-packages (from roboflow) (2.10)\n",
      "Requirement already satisfied: kiwisolver>=1.3.1 in c:\\users\\onur\\mambaforge\\envs\\bachelor\\lib\\site-packages (from roboflow) (1.4.4)\n",
      "Requirement already satisfied: matplotlib in c:\\users\\onur\\appdata\\roaming\\python\\python311\\site-packages (from roboflow) (3.8.1)\n",
      "Requirement already satisfied: numpy>=1.18.5 in c:\\users\\onur\\mambaforge\\envs\\bachelor\\lib\\site-packages (from roboflow) (1.26.1)\n",
      "Requirement already satisfied: opencv-python-headless==4.8.0.74 in c:\\users\\onur\\mambaforge\\envs\\bachelor\\lib\\site-packages (from roboflow) (4.8.0.74)\n",
      "Requirement already satisfied: Pillow>=7.1.2 in c:\\users\\onur\\mambaforge\\envs\\bachelor\\lib\\site-packages (from roboflow) (10.1.0)\n",
      "Requirement already satisfied: pyparsing==2.4.7 in c:\\users\\onur\\mambaforge\\envs\\bachelor\\lib\\site-packages (from roboflow) (2.4.7)\n",
      "Requirement already satisfied: python-dateutil in c:\\users\\onur\\mambaforge\\envs\\bachelor\\lib\\site-packages (from roboflow) (2.8.2)\n",
      "Requirement already satisfied: python-dotenv in c:\\users\\onur\\mambaforge\\envs\\bachelor\\lib\\site-packages (from roboflow) (1.0.0)\n",
      "Requirement already satisfied: requests in c:\\users\\onur\\mambaforge\\envs\\bachelor\\lib\\site-packages (from roboflow) (2.31.0)\n",
      "Requirement already satisfied: six in c:\\users\\onur\\mambaforge\\envs\\bachelor\\lib\\site-packages (from roboflow) (1.16.0)\n",
      "Requirement already satisfied: supervision in c:\\users\\onur\\mambaforge\\envs\\bachelor\\lib\\site-packages (from roboflow) (0.16.0)\n",
      "Requirement already satisfied: urllib3>=1.26.6 in c:\\users\\onur\\mambaforge\\envs\\bachelor\\lib\\site-packages (from roboflow) (2.0.6)\n",
      "Requirement already satisfied: tqdm>=4.41.0 in c:\\users\\onur\\mambaforge\\envs\\bachelor\\lib\\site-packages (from roboflow) (4.66.1)\n",
      "Requirement already satisfied: PyYAML>=5.3.1 in c:\\users\\onur\\mambaforge\\envs\\bachelor\\lib\\site-packages (from roboflow) (6.0.1)\n",
      "Requirement already satisfied: requests-toolbelt in c:\\users\\onur\\mambaforge\\envs\\bachelor\\lib\\site-packages (from roboflow) (1.0.0)\n",
      "Requirement already satisfied: jsonschema!=3.1.0,>=2.6.0 in c:\\users\\onur\\mambaforge\\envs\\bachelor\\lib\\site-packages (from comet_ml) (4.19.2)\n",
      "Requirement already satisfied: psutil>=5.6.3 in c:\\users\\onur\\mambaforge\\envs\\bachelor\\lib\\site-packages (from comet_ml) (5.9.6)\n",
      "Requirement already satisfied: python-box<7.0.0 in c:\\users\\onur\\mambaforge\\envs\\bachelor\\lib\\site-packages (from comet_ml) (6.1.0)\n",
      "Requirement already satisfied: semantic-version>=2.8.0 in c:\\users\\onur\\mambaforge\\envs\\bachelor\\lib\\site-packages (from comet_ml) (2.10.0)\n",
      "Requirement already satisfied: sentry-sdk>=1.1.0 in c:\\users\\onur\\mambaforge\\envs\\bachelor\\lib\\site-packages (from comet_ml) (1.31.0)\n",
      "Requirement already satisfied: simplejson in c:\\users\\onur\\mambaforge\\envs\\bachelor\\lib\\site-packages (from comet_ml) (3.19.2)\n",
      "Requirement already satisfied: websocket-client<1.4.0,>=0.55.0 in c:\\users\\onur\\mambaforge\\envs\\bachelor\\lib\\site-packages (from comet_ml) (1.3.3)\n",
      "Requirement already satisfied: wrapt>=1.11.2 in c:\\users\\onur\\mambaforge\\envs\\bachelor\\lib\\site-packages (from comet_ml) (1.15.0)\n",
      "Requirement already satisfied: wurlitzer>=1.0.2 in c:\\users\\onur\\mambaforge\\envs\\bachelor\\lib\\site-packages (from comet_ml) (3.0.3)\n",
      "Requirement already satisfied: everett[ini]<3.2.0,>=1.0.1 in c:\\users\\onur\\mambaforge\\envs\\bachelor\\lib\\site-packages (from comet_ml) (3.1.0)\n",
      "Requirement already satisfied: dulwich!=0.20.33,>=0.20.6 in c:\\users\\onur\\mambaforge\\envs\\bachelor\\lib\\site-packages (from comet_ml) (0.21.6)\n",
      "Requirement already satisfied: rich>=13.3.2 in c:\\users\\onur\\mambaforge\\envs\\bachelor\\lib\\site-packages (from comet_ml) (13.6.0)\n",
      "Requirement already satisfied: configobj in c:\\users\\onur\\mambaforge\\envs\\bachelor\\lib\\site-packages (from everett[ini]<3.2.0,>=1.0.1->comet_ml) (5.0.8)\n",
      "Requirement already satisfied: attrs>=22.2.0 in c:\\users\\onur\\mambaforge\\envs\\bachelor\\lib\\site-packages (from jsonschema!=3.1.0,>=2.6.0->comet_ml) (23.1.0)\n",
      "Requirement already satisfied: jsonschema-specifications>=2023.03.6 in c:\\users\\onur\\mambaforge\\envs\\bachelor\\lib\\site-packages (from jsonschema!=3.1.0,>=2.6.0->comet_ml) (2023.7.1)\n",
      "Requirement already satisfied: referencing>=0.28.4 in c:\\users\\onur\\mambaforge\\envs\\bachelor\\lib\\site-packages (from jsonschema!=3.1.0,>=2.6.0->comet_ml) (0.30.2)\n",
      "Requirement already satisfied: rpds-py>=0.7.1 in c:\\users\\onur\\mambaforge\\envs\\bachelor\\lib\\site-packages (from jsonschema!=3.1.0,>=2.6.0->comet_ml) (0.10.6)\n",
      "Requirement already satisfied: charset-normalizer<4,>=2 in c:\\users\\onur\\mambaforge\\envs\\bachelor\\lib\\site-packages (from requests->roboflow) (3.3.0)\n",
      "Requirement already satisfied: markdown-it-py>=2.2.0 in c:\\users\\onur\\mambaforge\\envs\\bachelor\\lib\\site-packages (from rich>=13.3.2->comet_ml) (3.0.0)\n",
      "Requirement already satisfied: pygments<3.0.0,>=2.13.0 in c:\\users\\onur\\mambaforge\\envs\\bachelor\\lib\\site-packages (from rich>=13.3.2->comet_ml) (2.16.1)\n",
      "Requirement already satisfied: colorama in c:\\users\\onur\\mambaforge\\envs\\bachelor\\lib\\site-packages (from tqdm>=4.41.0->roboflow) (0.4.6)\n",
      "Requirement already satisfied: contourpy>=1.0.1 in c:\\users\\onur\\mambaforge\\envs\\bachelor\\lib\\site-packages (from matplotlib->roboflow) (1.1.0)\n",
      "Requirement already satisfied: fonttools>=4.22.0 in c:\\users\\onur\\mambaforge\\envs\\bachelor\\lib\\site-packages (from matplotlib->roboflow) (4.41.0)\n",
      "Requirement already satisfied: packaging>=20.0 in c:\\users\\onur\\mambaforge\\envs\\bachelor\\lib\\site-packages (from matplotlib->roboflow) (23.1)\n",
      "Requirement already satisfied: scipy<2.0.0,>=1.9.0 in c:\\users\\onur\\mambaforge\\envs\\bachelor\\lib\\site-packages (from supervision->roboflow) (1.11.3)\n",
      "Requirement already satisfied: mdurl~=0.1 in c:\\users\\onur\\mambaforge\\envs\\bachelor\\lib\\site-packages (from markdown-it-py>=2.2.0->rich>=13.3.2->comet_ml) (0.1.2)\n",
      "Note: you may need to restart the kernel to use updated packages.\n"
     ]
    },
    {
     "name": "stderr",
     "output_type": "stream",
     "text": [
      "WARNING: Skipping c:\\Users\\Onur\\mambaforge\\envs\\bachelor\\Lib\\site-packages\\numpy-1.25.1.dist-info due to invalid metadata entry 'name'\n",
      "WARNING: Skipping c:\\Users\\Onur\\mambaforge\\envs\\bachelor\\Lib\\site-packages\\numpy-1.25.1.dist-info due to invalid metadata entry 'name'\n",
      "WARNING: Skipping c:\\Users\\Onur\\mambaforge\\envs\\bachelor\\Lib\\site-packages\\numpy-1.25.1.dist-info due to invalid metadata entry 'name'\n",
      "WARNING: Skipping c:\\Users\\Onur\\mambaforge\\envs\\bachelor\\Lib\\site-packages\\numpy-1.25.1.dist-info due to invalid metadata entry 'name'\n",
      "WARNING: Skipping c:\\Users\\Onur\\mambaforge\\envs\\bachelor\\Lib\\site-packages\\numpy-1.25.1.dist-info due to invalid metadata entry 'name'\n",
      "WARNING: Skipping c:\\Users\\Onur\\mambaforge\\envs\\bachelor\\Lib\\site-packages\\numpy-1.25.1.dist-info due to invalid metadata entry 'name'\n"
     ]
    }
   ],
   "source": [
    "%pip install -Ur requirements.txt\n",
    "%pip install roboflow comet_ml"
   ]
  },
  {
   "cell_type": "code",
   "execution_count": 4,
   "metadata": {},
   "outputs": [],
   "source": [
    "import torch\n",
    "from IPython.display import Image, clear_output # to display images"
   ]
  },
  {
   "cell_type": "code",
   "execution_count": 5,
   "metadata": {},
   "outputs": [
    {
     "name": "stdout",
     "output_type": "stream",
     "text": [
      "loading Roboflow workspace...\n",
      "loading Roboflow project...\n"
     ]
    },
    {
     "name": "stderr",
     "output_type": "stream",
     "text": [
      "Downloading Dataset Version Zip in SVHN-YOLO-1 to yolov5pytorch:: 100%|██████████| 14335/14335 [00:01<00:00, 8946.10it/s] "
     ]
    },
    {
     "name": "stdout",
     "output_type": "stream",
     "text": [
      "\n"
     ]
    },
    {
     "name": "stderr",
     "output_type": "stream",
     "text": [
      "\n",
      "Extracting Dataset Version Zip to SVHN-YOLO-1 in yolov5pytorch:: 100%|██████████| 2012/2012 [00:14<00:00, 142.72it/s]\n"
     ]
    }
   ],
   "source": [
    "from roboflow import Roboflow\n",
    "rf = Roboflow(api_key=\"CmkPncwo7RqoVbRtH71I\")\n",
    "project = rf.workspace(\"bachelor-hjwp8\").project(\"svhn-yolo-z3o4t\")\n",
    "dataset = project.version(\"1\").download(\"yolov5\")"
   ]
  },
  {
   "cell_type": "code",
   "execution_count": 6,
   "metadata": {},
   "outputs": [
    {
     "name": "stderr",
     "output_type": "stream",
     "text": [
      "\u001b[34m\u001b[1mdetect: \u001b[0mweights=['../weights/best.onnx'], source=SVHN-YOLO-1/test/images, data=data\\coco128.yaml, imgsz=[640, 640], conf_thres=0.25, iou_thres=0.45, max_det=1000, device=, view_img=False, save_txt=False, save_csv=False, save_conf=False, save_crop=False, nosave=False, classes=None, agnostic_nms=False, augment=False, visualize=False, update=False, project=runs\\detect, name=exp, exist_ok=False, line_thickness=3, hide_labels=False, hide_conf=False, half=False, dnn=False, vid_stride=1\n",
      "WARNING  invalid check_version(None, >=1.22.2) requested, please check values.\n",
      "fatal: cannot change to 'E:\\Meine': No such file or directory\n",
      "YOLOv5  2023-11-2 Python-3.11.4 torch-2.1.0+cpu CPU\n",
      "\n",
      "Loading ..\\weights\\best.onnx for ONNX Runtime inference...\n",
      "image 1/100 E:\\Meine Ablage\\Programming\\Bachelor\\svhn\\yolov5\\SVHN-YOLO-1\\test\\images\\10_png.rf.0fd382e23cfab61d5ad4f685b024f685.jpg: 640x640 1 1, 1 6, 15.0ms\n",
      "image 2/100 E:\\Meine Ablage\\Programming\\Bachelor\\svhn\\yolov5\\SVHN-YOLO-1\\test\\images\\121_png.rf.eca433b7f83cf18be00dffbba9660a34.jpg: 640x640 1 1, 1 3, 1 5, 1 8, 15.5ms\n",
      "image 3/100 E:\\Meine Ablage\\Programming\\Bachelor\\svhn\\yolov5\\SVHN-YOLO-1\\test\\images\\133_png.rf.33c727d08183bf7e1b8849af8c52834f.jpg: 640x640 4 4s, 16.0ms\n",
      "image 4/100 E:\\Meine Ablage\\Programming\\Bachelor\\svhn\\yolov5\\SVHN-YOLO-1\\test\\images\\139_png.rf.019f4002b7f939e0f0ed8f7675589187.jpg: 640x640 1 2, 1 8, 14.5ms\n",
      "image 5/100 E:\\Meine Ablage\\Programming\\Bachelor\\svhn\\yolov5\\SVHN-YOLO-1\\test\\images\\140_png.rf.d318071c79e86347f628a2c004454443.jpg: 640x640 1 2, 1 9, 14.0ms\n",
      "image 6/100 E:\\Meine Ablage\\Programming\\Bachelor\\svhn\\yolov5\\SVHN-YOLO-1\\test\\images\\152_png.rf.2dc7dd0790445b3312d9bc00ff2dd873.jpg: 640x640 1 0, 1 2, 1 7, 15.0ms\n",
      "image 7/100 E:\\Meine Ablage\\Programming\\Bachelor\\svhn\\yolov5\\SVHN-YOLO-1\\test\\images\\154_png.rf.09859d0dcb3db6ed73bcd848aece3538.jpg: 640x640 1 2, 15.0ms\n",
      "image 8/100 E:\\Meine Ablage\\Programming\\Bachelor\\svhn\\yolov5\\SVHN-YOLO-1\\test\\images\\211_png.rf.1b2ed57cca5435c07d1b9d25ca835b04.jpg: 640x640 1 0, 1 7, 1 9, 26.5ms\n",
      "image 9/100 E:\\Meine Ablage\\Programming\\Bachelor\\svhn\\yolov5\\SVHN-YOLO-1\\test\\images\\214_png.rf.c4dc4f8697e225546e3a1f9b1f291314.jpg: 640x640 1 8, 14.0ms\n",
      "image 10/100 E:\\Meine Ablage\\Programming\\Bachelor\\svhn\\yolov5\\SVHN-YOLO-1\\test\\images\\225_png.rf.d64a305d854c40962e251b755934514d.jpg: 640x640 1 2, 15.0ms\n",
      "image 11/100 E:\\Meine Ablage\\Programming\\Bachelor\\svhn\\yolov5\\SVHN-YOLO-1\\test\\images\\235_png.rf.e85944e6e570e4ff274978387a1d5e8c.jpg: 640x640 1 0, 1 1, 1 2, 10.5ms\n",
      "image 12/100 E:\\Meine Ablage\\Programming\\Bachelor\\svhn\\yolov5\\SVHN-YOLO-1\\test\\images\\242_png.rf.1bc279f8556b73a52773761b4d1a5fcb.jpg: 640x640 1 1, 1 5, 15.0ms\n",
      "image 13/100 E:\\Meine Ablage\\Programming\\Bachelor\\svhn\\yolov5\\SVHN-YOLO-1\\test\\images\\26_png.rf.03f15670d687b974be29cae7e78748d2.jpg: 640x640 1 2, 1 4, 16.5ms\n",
      "image 14/100 E:\\Meine Ablage\\Programming\\Bachelor\\svhn\\yolov5\\SVHN-YOLO-1\\test\\images\\283_png.rf.d9c034b3c0ba1de0cb735ca9a2ff97d9.jpg: 640x640 2 1s, 1 3, 14.5ms\n",
      "image 15/100 E:\\Meine Ablage\\Programming\\Bachelor\\svhn\\yolov5\\SVHN-YOLO-1\\test\\images\\292_png.rf.170a266ab0ea23eeb1bcb360993b3d65.jpg: 640x640 1 4, 16.5ms\n",
      "image 16/100 E:\\Meine Ablage\\Programming\\Bachelor\\svhn\\yolov5\\SVHN-YOLO-1\\test\\images\\2_png.rf.6dcc8f7526eb328a8515cfc00b9ee7cb.jpg: 640x640 1 2, 1 3, 16.0ms\n",
      "image 17/100 E:\\Meine Ablage\\Programming\\Bachelor\\svhn\\yolov5\\SVHN-YOLO-1\\test\\images\\313_png.rf.5d09b1aace6a8723fa92f7af8d6fcc27.jpg: 640x640 1 1, 2 4s, 1 5, 17.5ms\n",
      "image 18/100 E:\\Meine Ablage\\Programming\\Bachelor\\svhn\\yolov5\\SVHN-YOLO-1\\test\\images\\31_png.rf.b400e10b87250268bd11b7602d3f42b3.jpg: 640x640 1 3, 1 6, 1 8, 15.5ms\n",
      "image 19/100 E:\\Meine Ablage\\Programming\\Bachelor\\svhn\\yolov5\\SVHN-YOLO-1\\test\\images\\322_png.rf.0092bb569699b7f417d9e6e6beda9ade.jpg: 640x640 1 1, 1 3, 18.0ms\n",
      "image 20/100 E:\\Meine Ablage\\Programming\\Bachelor\\svhn\\yolov5\\SVHN-YOLO-1\\test\\images\\327_png.rf.942fe7ba2891c07f1f951d602f1ca083.jpg: 640x640 2 1s, 1 8, 17.5ms\n",
      "image 21/100 E:\\Meine Ablage\\Programming\\Bachelor\\svhn\\yolov5\\SVHN-YOLO-1\\test\\images\\32_png.rf.ee9b6fc9687f52a6bf0603b1f252f0f0.jpg: 640x640 1 3, 1 4, 17.5ms\n",
      "image 22/100 E:\\Meine Ablage\\Programming\\Bachelor\\svhn\\yolov5\\SVHN-YOLO-1\\test\\images\\344_png.rf.4d0e2809f5ce982e03579d9b213337e6.jpg: 640x640 1 7, 2 9s, 18.0ms\n",
      "image 23/100 E:\\Meine Ablage\\Programming\\Bachelor\\svhn\\yolov5\\SVHN-YOLO-1\\test\\images\\34_png.rf.76f3b41272b1cefa8b0078f9fa8c9a08.jpg: 640x640 1 2, 1 4, 19.0ms\n",
      "image 24/100 E:\\Meine Ablage\\Programming\\Bachelor\\svhn\\yolov5\\SVHN-YOLO-1\\test\\images\\351_png.rf.c9d43916438f34bc4be02e6eaaf7b000.jpg: 640x640 1 4, 17.5ms\n",
      "image 25/100 E:\\Meine Ablage\\Programming\\Bachelor\\svhn\\yolov5\\SVHN-YOLO-1\\test\\images\\352_png.rf.40a49e4c1ce505c5e7b7f9e4b67be63f.jpg: 640x640 1 4, 15.5ms\n",
      "image 26/100 E:\\Meine Ablage\\Programming\\Bachelor\\svhn\\yolov5\\SVHN-YOLO-1\\test\\images\\358_png.rf.acbf19b6ad09d3f5704aafe09b9a191b.jpg: 640x640 1 2, 1 8, 34.5ms\n",
      "image 27/100 E:\\Meine Ablage\\Programming\\Bachelor\\svhn\\yolov5\\SVHN-YOLO-1\\test\\images\\35_png.rf.96af3696a2dea1fc34d46aeb10ac8aae.jpg: 640x640 1 6, 16.5ms\n",
      "image 28/100 E:\\Meine Ablage\\Programming\\Bachelor\\svhn\\yolov5\\SVHN-YOLO-1\\test\\images\\365_png.rf.4d46d7072c6757f062fc308a14b12a30.jpg: 640x640 1 3, 1 8, 16.0ms\n",
      "image 29/100 E:\\Meine Ablage\\Programming\\Bachelor\\svhn\\yolov5\\SVHN-YOLO-1\\test\\images\\373_png.rf.d92c015ead9aa35fed1099bbbf0d8238.jpg: 640x640 1 3, 1 8, 24.5ms\n",
      "image 30/100 E:\\Meine Ablage\\Programming\\Bachelor\\svhn\\yolov5\\SVHN-YOLO-1\\test\\images\\374_png.rf.e5748e5e1a3aad9c04b685162bba7248.jpg: 640x640 1 4, 1 9, 16.0ms\n",
      "image 31/100 E:\\Meine Ablage\\Programming\\Bachelor\\svhn\\yolov5\\SVHN-YOLO-1\\test\\images\\388_png.rf.a3b43644b5bf94cd7eae1345c0ce663b.jpg: 640x640 1 2, 2 3s, 19.5ms\n",
      "image 32/100 E:\\Meine Ablage\\Programming\\Bachelor\\svhn\\yolov5\\SVHN-YOLO-1\\test\\images\\425_png.rf.45d35b9ef37766f5cc1b17608a7d2c1a.jpg: 640x640 1 1, 1 7, 21.5ms\n",
      "image 33/100 E:\\Meine Ablage\\Programming\\Bachelor\\svhn\\yolov5\\SVHN-YOLO-1\\test\\images\\428_png.rf.97fd2ddbb4664072bdb79ee8f3adee2d.jpg: 640x640 1 3, 18.5ms\n",
      "image 34/100 E:\\Meine Ablage\\Programming\\Bachelor\\svhn\\yolov5\\SVHN-YOLO-1\\test\\images\\42_png.rf.431371c875d96d0acb3d4d8f88b2469f.jpg: 640x640 1 1, 1 2, 2 5s, 14.5ms\n",
      "image 35/100 E:\\Meine Ablage\\Programming\\Bachelor\\svhn\\yolov5\\SVHN-YOLO-1\\test\\images\\443_png.rf.bf764c88eeee3e1d8a3b3e43587d2f56.jpg: 640x640 1 7, 15.0ms\n",
      "image 36/100 E:\\Meine Ablage\\Programming\\Bachelor\\svhn\\yolov5\\SVHN-YOLO-1\\test\\images\\459_png.rf.8fce24e2a3f5a3add5c95f12d044db77.jpg: 640x640 1 0, 2 6s, 16.0ms\n",
      "image 37/100 E:\\Meine Ablage\\Programming\\Bachelor\\svhn\\yolov5\\SVHN-YOLO-1\\test\\images\\469_png.rf.1e5548a5eff1db79968a43947611a6c6.jpg: 640x640 2 2s, 15.5ms\n",
      "image 38/100 E:\\Meine Ablage\\Programming\\Bachelor\\svhn\\yolov5\\SVHN-YOLO-1\\test\\images\\487_png.rf.c799853ce9013bee84292c882146a067.jpg: 640x640 1 4, 19.0ms\n",
      "image 39/100 E:\\Meine Ablage\\Programming\\Bachelor\\svhn\\yolov5\\SVHN-YOLO-1\\test\\images\\497_png.rf.30d33babb76b671db38aecd3b597b816.jpg: 640x640 1 0, 1 1, 1 4, 18.0ms\n",
      "image 40/100 E:\\Meine Ablage\\Programming\\Bachelor\\svhn\\yolov5\\SVHN-YOLO-1\\test\\images\\509_png.rf.b6a397b398ad4463473606b270049a57.jpg: 640x640 1 2, 1 4, 1 8, 19.0ms\n",
      "image 41/100 E:\\Meine Ablage\\Programming\\Bachelor\\svhn\\yolov5\\SVHN-YOLO-1\\test\\images\\50_png.rf.07f15f805b3a1d0db78e3f024e7da7c7.jpg: 640x640 1 0, 1 1, 1 3, 17.0ms\n",
      "image 42/100 E:\\Meine Ablage\\Programming\\Bachelor\\svhn\\yolov5\\SVHN-YOLO-1\\test\\images\\514_png.rf.1588a94aa767a6c531ec23a0bd92b6ae.jpg: 640x640 1 2, 1 7, 20.0ms\n",
      "image 43/100 E:\\Meine Ablage\\Programming\\Bachelor\\svhn\\yolov5\\SVHN-YOLO-1\\test\\images\\516_png.rf.7b134b9de4d2b50269b1d965d83c39c1.jpg: 640x640 2 1s, 25.0ms\n",
      "image 44/100 E:\\Meine Ablage\\Programming\\Bachelor\\svhn\\yolov5\\SVHN-YOLO-1\\test\\images\\519_png.rf.503f34a0be5bffe70a1b5aff1e242f14.jpg: 640x640 1 0, 1 1, 20.5ms\n",
      "image 45/100 E:\\Meine Ablage\\Programming\\Bachelor\\svhn\\yolov5\\SVHN-YOLO-1\\test\\images\\532_png.rf.6d2405f02116ea0a7369005ae82b5f3c.jpg: 640x640 1 1, 2 2s, 24.5ms\n",
      "image 46/100 E:\\Meine Ablage\\Programming\\Bachelor\\svhn\\yolov5\\SVHN-YOLO-1\\test\\images\\535_png.rf.c99ccc96e7643be5e731fa5a1212553e.jpg: 640x640 1 1, 1 5, 18.5ms\n",
      "image 47/100 E:\\Meine Ablage\\Programming\\Bachelor\\svhn\\yolov5\\SVHN-YOLO-1\\test\\images\\545_png.rf.a330cd83d86b83dc67526c3d7abbee40.jpg: 640x640 1 1, 1 7, 16.0ms\n",
      "image 48/100 E:\\Meine Ablage\\Programming\\Bachelor\\svhn\\yolov5\\SVHN-YOLO-1\\test\\images\\567_png.rf.d87115048ef1a2b48eb439d36b4a13f5.jpg: 640x640 1 2, 2 3s, 1 4, 16.0ms\n",
      "image 49/100 E:\\Meine Ablage\\Programming\\Bachelor\\svhn\\yolov5\\SVHN-YOLO-1\\test\\images\\574_png.rf.11680918cb8df526510b5f74e171e6a1.jpg: 640x640 1 1, 1 2, 18.5ms\n",
      "image 50/100 E:\\Meine Ablage\\Programming\\Bachelor\\svhn\\yolov5\\SVHN-YOLO-1\\test\\images\\585_png.rf.95adf1a465d4f7b7fd9be913a1b27ed7.jpg: 640x640 1 8, 1 9, 17.0ms\n",
      "image 51/100 E:\\Meine Ablage\\Programming\\Bachelor\\svhn\\yolov5\\SVHN-YOLO-1\\test\\images\\594_png.rf.ad9197201efd474775b07e6fb375a5b6.jpg: 640x640 1 1, 1 9, 16.0ms\n",
      "image 52/100 E:\\Meine Ablage\\Programming\\Bachelor\\svhn\\yolov5\\SVHN-YOLO-1\\test\\images\\597_png.rf.7f4c3fdd1cf17d37b7299ba03eb06b0f.jpg: 640x640 1 0, 1 1, 1 2, 20.0ms\n",
      "image 53/100 E:\\Meine Ablage\\Programming\\Bachelor\\svhn\\yolov5\\SVHN-YOLO-1\\test\\images\\608_png.rf.1cac62e177fd5fa03e5ed500191e87a8.jpg: 640x640 1 8, 16.5ms\n",
      "image 54/100 E:\\Meine Ablage\\Programming\\Bachelor\\svhn\\yolov5\\SVHN-YOLO-1\\test\\images\\631_png.rf.fb67d3cc441672dee874fbdccb970710.jpg: 640x640 1 1, 1 9, 19.5ms\n",
      "image 55/100 E:\\Meine Ablage\\Programming\\Bachelor\\svhn\\yolov5\\SVHN-YOLO-1\\test\\images\\637_png.rf.1a0e98c930da3f4fcac9f5811a6b7994.jpg: 640x640 1 0, 1 1, 1 5, 17.0ms\n",
      "image 56/100 E:\\Meine Ablage\\Programming\\Bachelor\\svhn\\yolov5\\SVHN-YOLO-1\\test\\images\\639_png.rf.a56d4cf066bc27bd457b977de980a487.jpg: 640x640 1 4, 1 5, 16.0ms\n",
      "image 57/100 E:\\Meine Ablage\\Programming\\Bachelor\\svhn\\yolov5\\SVHN-YOLO-1\\test\\images\\640_png.rf.484f24cd06b44b7f5731ef286f1977c9.jpg: 640x640 1 2, 14.5ms\n",
      "image 58/100 E:\\Meine Ablage\\Programming\\Bachelor\\svhn\\yolov5\\SVHN-YOLO-1\\test\\images\\641_png.rf.bff22d22f593e22374f9f5f027af86be.jpg: 640x640 1 1, 1 4, 1 5, 18.5ms\n",
      "image 59/100 E:\\Meine Ablage\\Programming\\Bachelor\\svhn\\yolov5\\SVHN-YOLO-1\\test\\images\\649_png.rf.0b3de1c7b131727c4355502c83e72565.jpg: 640x640 1 3, 1 4, 1 5, 1 9, 18.5ms\n",
      "image 60/100 E:\\Meine Ablage\\Programming\\Bachelor\\svhn\\yolov5\\SVHN-YOLO-1\\test\\images\\665_png.rf.5b41396631033d73a998c927f5825a6f.jpg: 640x640 1 1, 1 4, 1 6, 15.5ms\n",
      "image 61/100 E:\\Meine Ablage\\Programming\\Bachelor\\svhn\\yolov5\\SVHN-YOLO-1\\test\\images\\667_png.rf.befa2a38ca90a0b0de129a525fd4dad6.jpg: 640x640 1 2, 1 7, 15.0ms\n",
      "image 62/100 E:\\Meine Ablage\\Programming\\Bachelor\\svhn\\yolov5\\SVHN-YOLO-1\\test\\images\\672_png.rf.6f2ac377fdc2a191f75971ab03a1e87c.jpg: 640x640 2 3s, 14.5ms\n",
      "image 63/100 E:\\Meine Ablage\\Programming\\Bachelor\\svhn\\yolov5\\SVHN-YOLO-1\\test\\images\\691_png.rf.5b7da5c80eefc449e12bc89369086d4e.jpg: 640x640 2 5s, 15.0ms\n",
      "image 64/100 E:\\Meine Ablage\\Programming\\Bachelor\\svhn\\yolov5\\SVHN-YOLO-1\\test\\images\\697_png.rf.69a351ec19c7168788b20e7045c23553.jpg: 640x640 1 0, 1 7, 1 8, 15.5ms\n",
      "image 65/100 E:\\Meine Ablage\\Programming\\Bachelor\\svhn\\yolov5\\SVHN-YOLO-1\\test\\images\\69_png.rf.e4573aa08dd9bcd4c7eb6cb42ef9efc7.jpg: 640x640 1 4, 17.0ms\n",
      "image 66/100 E:\\Meine Ablage\\Programming\\Bachelor\\svhn\\yolov5\\SVHN-YOLO-1\\test\\images\\716_png.rf.f9ed9034a0e726bd48cfeb57cdb7dea1.jpg: 640x640 1 1, 1 5, 15.0ms\n",
      "image 67/100 E:\\Meine Ablage\\Programming\\Bachelor\\svhn\\yolov5\\SVHN-YOLO-1\\test\\images\\719_png.rf.57ec178df1c156fe12187d552336dd0f.jpg: 640x640 1 2, 1 7, 17.0ms\n",
      "image 68/100 E:\\Meine Ablage\\Programming\\Bachelor\\svhn\\yolov5\\SVHN-YOLO-1\\test\\images\\722_png.rf.cd9a7da7bd563235e1059f5336609999.jpg: 640x640 1 3, 2 4s, 15.0ms\n",
      "image 69/100 E:\\Meine Ablage\\Programming\\Bachelor\\svhn\\yolov5\\SVHN-YOLO-1\\test\\images\\727_png.rf.ebcf3c6de4b6abd7c649b641c1d7d1b6.jpg: 640x640 2 1s, 1 4, 14.0ms\n",
      "image 70/100 E:\\Meine Ablage\\Programming\\Bachelor\\svhn\\yolov5\\SVHN-YOLO-1\\test\\images\\732_png.rf.4a5954a3f693a44c4cf54a9ba45feb10.jpg: 640x640 1 5, 34.0ms\n",
      "image 71/100 E:\\Meine Ablage\\Programming\\Bachelor\\svhn\\yolov5\\SVHN-YOLO-1\\test\\images\\743_png.rf.f0183aa69264d9dae4510e74b83744b1.jpg: 640x640 1 7, 14.0ms\n",
      "image 72/100 E:\\Meine Ablage\\Programming\\Bachelor\\svhn\\yolov5\\SVHN-YOLO-1\\test\\images\\748_png.rf.b651a5b4a714eaaba46235d745e41c45.jpg: 640x640 1 0, 1 1, 19.0ms\n",
      "image 73/100 E:\\Meine Ablage\\Programming\\Bachelor\\svhn\\yolov5\\SVHN-YOLO-1\\test\\images\\74_png.rf.e7cddebd75df49d5332521ca6f018d2a.jpg: 640x640 2 3s, 25.0ms\n",
      "image 74/100 E:\\Meine Ablage\\Programming\\Bachelor\\svhn\\yolov5\\SVHN-YOLO-1\\test\\images\\772_png.rf.50b1ef216928239a1f3fe42fd4ef139c.jpg: 640x640 1 3, 15.5ms\n",
      "image 75/100 E:\\Meine Ablage\\Programming\\Bachelor\\svhn\\yolov5\\SVHN-YOLO-1\\test\\images\\773_png.rf.960d97d7c74bb3a69cb88f65f8911853.jpg: 640x640 1 3, 1 4, 1 5, 18.5ms\n",
      "image 76/100 E:\\Meine Ablage\\Programming\\Bachelor\\svhn\\yolov5\\SVHN-YOLO-1\\test\\images\\780_png.rf.873a820ccdf55ea40bc90db8e18a0463.jpg: 640x640 1 1, 1 2, 15.5ms\n",
      "image 77/100 E:\\Meine Ablage\\Programming\\Bachelor\\svhn\\yolov5\\SVHN-YOLO-1\\test\\images\\784_png.rf.350e431dd60cd9760a6e68ae77c60e8f.jpg: 640x640 1 1, 1 9, 15.5ms\n",
      "image 78/100 E:\\Meine Ablage\\Programming\\Bachelor\\svhn\\yolov5\\SVHN-YOLO-1\\test\\images\\804_png.rf.e4f60ea24da90b8f3a8921eee7d68cf8.jpg: 640x640 1 3, 20.5ms\n",
      "image 79/100 E:\\Meine Ablage\\Programming\\Bachelor\\svhn\\yolov5\\SVHN-YOLO-1\\test\\images\\80_png.rf.f4c1696bcb2e55f4b54d64c1e36963ed.jpg: 640x640 2 2s, 17.0ms\n",
      "image 80/100 E:\\Meine Ablage\\Programming\\Bachelor\\svhn\\yolov5\\SVHN-YOLO-1\\test\\images\\823_png.rf.ed0747b9e57c5856e0fc64d1afc79cb5.jpg: 640x640 1 3, 1 8, 21.0ms\n",
      "image 81/100 E:\\Meine Ablage\\Programming\\Bachelor\\svhn\\yolov5\\SVHN-YOLO-1\\test\\images\\831_png.rf.8be05dba1d42b00191d4186ddd1d58bf.jpg: 640x640 1 3, 1 8, 1 9, 27.0ms\n",
      "image 82/100 E:\\Meine Ablage\\Programming\\Bachelor\\svhn\\yolov5\\SVHN-YOLO-1\\test\\images\\833_png.rf.71f14bd441d962bd82af6efe531b5547.jpg: 640x640 1 1, 1 2, 2 4s, 15.0ms\n",
      "image 83/100 E:\\Meine Ablage\\Programming\\Bachelor\\svhn\\yolov5\\SVHN-YOLO-1\\test\\images\\847_png.rf.d6a5285863e08b1fbe4599dbc0788372.jpg: 640x640 1 2, 1 4, 16.0ms\n",
      "image 84/100 E:\\Meine Ablage\\Programming\\Bachelor\\svhn\\yolov5\\SVHN-YOLO-1\\test\\images\\851_png.rf.2f13866e5231c22c8bcf710d1d1d5d6a.jpg: 640x640 1 1, 2 4s, 14.0ms\n",
      "image 85/100 E:\\Meine Ablage\\Programming\\Bachelor\\svhn\\yolov5\\SVHN-YOLO-1\\test\\images\\855_png.rf.5ce8796a33ddb0fd9f5bdaad488be17c.jpg: 640x640 1 0, 1 1, 1 9, 16.5ms\n",
      "image 86/100 E:\\Meine Ablage\\Programming\\Bachelor\\svhn\\yolov5\\SVHN-YOLO-1\\test\\images\\870_png.rf.1e14af13ccc327ce5459ef45c9a78ac7.jpg: 640x640 1 1, 1 2, 1 3, 28.5ms\n",
      "image 87/100 E:\\Meine Ablage\\Programming\\Bachelor\\svhn\\yolov5\\SVHN-YOLO-1\\test\\images\\888_png.rf.62528818b9ab9bda09314a938a88c01d.jpg: 640x640 1 2, 17.5ms\n",
      "image 88/100 E:\\Meine Ablage\\Programming\\Bachelor\\svhn\\yolov5\\SVHN-YOLO-1\\test\\images\\889_png.rf.f699ba18bff55b429143939d4ed4fdae.jpg: 640x640 1 0, 1 6, 16.5ms\n",
      "image 89/100 E:\\Meine Ablage\\Programming\\Bachelor\\svhn\\yolov5\\SVHN-YOLO-1\\test\\images\\88_png.rf.60104a0fd5e315fa47a1ee56a8329ab5.jpg: 640x640 1 5, 16.5ms\n",
      "image 90/100 E:\\Meine Ablage\\Programming\\Bachelor\\svhn\\yolov5\\SVHN-YOLO-1\\test\\images\\8_png.rf.bda21741b1df0559dc3eba3abca95fa0.jpg: 640x640 2 4s, 1 7, 13.5ms\n",
      "image 91/100 E:\\Meine Ablage\\Programming\\Bachelor\\svhn\\yolov5\\SVHN-YOLO-1\\test\\images\\915_png.rf.68ef23327fbd25e9eab30bea246efc8d.jpg: 640x640 1 0, 1 2, 1 9, 14.0ms\n",
      "image 92/100 E:\\Meine Ablage\\Programming\\Bachelor\\svhn\\yolov5\\SVHN-YOLO-1\\test\\images\\916_png.rf.abc7a6b4688df748e7715b4dd1c0badb.jpg: 640x640 1 0, 1 3, 23.0ms\n",
      "image 93/100 E:\\Meine Ablage\\Programming\\Bachelor\\svhn\\yolov5\\SVHN-YOLO-1\\test\\images\\92_png.rf.17a44dd10c068634177fc6e47704d196.jpg: 640x640 1 3, 1 5, 24.0ms\n",
      "image 94/100 E:\\Meine Ablage\\Programming\\Bachelor\\svhn\\yolov5\\SVHN-YOLO-1\\test\\images\\945_png.rf.97f5da74f0934424445966ff61319474.jpg: 640x640 1 4, 1 6, 1 9, 20.0ms\n",
      "image 95/100 E:\\Meine Ablage\\Programming\\Bachelor\\svhn\\yolov5\\SVHN-YOLO-1\\test\\images\\94_png.rf.8bb11bf0a5fd9a53d0e65b8d00b96844.jpg: 640x640 1 1, 1 2, 19.0ms\n",
      "image 96/100 E:\\Meine Ablage\\Programming\\Bachelor\\svhn\\yolov5\\SVHN-YOLO-1\\test\\images\\952_png.rf.0f49e996c35db63741ba5689cb64685e.jpg: 640x640 1 1, 1 2, 1 8, 1 9, 14.5ms\n",
      "image 97/100 E:\\Meine Ablage\\Programming\\Bachelor\\svhn\\yolov5\\SVHN-YOLO-1\\test\\images\\955_png.rf.ca6d82d326f7b3d1615c361c7e2b15aa.jpg: 640x640 2 0s, 1 2, 17.0ms\n",
      "image 98/100 E:\\Meine Ablage\\Programming\\Bachelor\\svhn\\yolov5\\SVHN-YOLO-1\\test\\images\\961_png.rf.056e91f44fed57e11bc676be7709a11a.jpg: 640x640 1 0, 1 3, 24.5ms\n",
      "image 99/100 E:\\Meine Ablage\\Programming\\Bachelor\\svhn\\yolov5\\SVHN-YOLO-1\\test\\images\\975_png.rf.51951f93d1fb69481f62456cb3282a17.jpg: 640x640 1 3, 1 5, 21.0ms\n",
      "image 100/100 E:\\Meine Ablage\\Programming\\Bachelor\\svhn\\yolov5\\SVHN-YOLO-1\\test\\images\\989_png.rf.3ee5ecf5fe8a780dbe9dc70715059001.jpg: 640x640 1 3, 1 7, 1 9, 16.5ms\n",
      "Speed: 0.5ms pre-process, 17.8ms inference, 0.7ms NMS per image at shape (1, 3, 640, 640)\n",
      "Results saved to \u001b[1mruns\\detect\\exp\u001b[0m\n"
     ]
    }
   ],
   "source": [
    "!python detect.py --weights \"../weights/best.onnx\" --img 640 --source \"SVHN-YOLO-1/test/images\""
   ]
  },
  {
   "cell_type": "markdown",
   "metadata": {},
   "source": []
  }
 ],
 "metadata": {
  "kernelspec": {
   "display_name": "bachelor",
   "language": "python",
   "name": "python3"
  },
  "language_info": {
   "codemirror_mode": {
    "name": "ipython",
    "version": 3
   },
   "file_extension": ".py",
   "mimetype": "text/x-python",
   "name": "python",
   "nbconvert_exporter": "python",
   "pygments_lexer": "ipython3",
   "version": "3.11.4"
  }
 },
 "nbformat": 4,
 "nbformat_minor": 2
}
